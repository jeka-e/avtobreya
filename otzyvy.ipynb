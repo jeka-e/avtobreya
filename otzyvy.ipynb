{
 "cells": [
  {
   "cell_type": "code",
   "execution_count": 1,
   "metadata": {},
   "outputs": [],
   "source": [
    "import requests\n",
    "from pprint import pprint\n",
    "import sqlite3\n",
    "from bs4 import BeautifulSoup\n",
    "import re\n",
    "import time\n",
    "from nltk.corpus import stopwords\n",
    "import nltk\n",
    "from nltk.tokenize import word_tokenize\n",
    "from pymorphy2 import MorphAnalyzer"
   ]
  },
  {
   "cell_type": "markdown",
   "metadata": {},
   "source": [
    "С общей страницы достаю ссылки на конкретные клубы"
   ]
  },
  {
   "cell_type": "code",
   "execution_count": 2,
   "metadata": {},
   "outputs": [],
   "source": [
    "def get_hrefs(user_agent, url): \n",
    "    req = requests.get(url, headers={'User-Agent': user_agent})\n",
    "    page = req.text\n",
    "    regex_href  = re.compile('\"(\\/reviews\\/.+)\" >')\n",
    "    hrefs = regex_href.findall (str(page))\n",
    "    return hrefs"
   ]
  },
  {
   "cell_type": "code",
   "execution_count": 191,
   "metadata": {
    "scrolled": true
   },
   "outputs": [
    {
     "data": {
      "text/plain": [
       "['/reviews/fitnes-klub_spiritfitness_russia_moscow/',\n",
       " '/reviews/fitnes-proekt_prime_time_russia/',\n",
       " '/reviews/fitnes-klub_ohana_fitness_russia_moskovskiy/',\n",
       " '/reviews/fitnes-klub_oblaka_russia_moscow/',\n",
       " '/reviews/fitnes-klub_amazoniya_russia_moscow/',\n",
       " '/reviews/fitnes-klub_loft_fitness_russia_yaroslavl/',\n",
       " '/reviews/fitnes_klub_zebra_russia_mitischi/',\n",
       " '/reviews/ediniy_sportivniy_abonement_onefit/',\n",
       " '/reviews/fitnes-klub_v7fitnes_russia_sankt-peterburg/',\n",
       " '/reviews/fitnes-klub_crocus_fitness_russia_moscow/',\n",
       " '/reviews/fitnes-klub_gym-gym_russia_moscow/',\n",
       " '/reviews/fitnes-klub_raketa_russia_moscow/',\n",
       " '/reviews/fitnes-park_vita-fit_russia_vidnoe/',\n",
       " '/reviews/fitnes-klub_gym_fitness_studio_russia_moscow/',\n",
       " '/reviews/ediniy_fitnes_abonement_fitmost/',\n",
       " '/reviews/fitnes-klub_enigma_sura_russia_penza/',\n",
       " '/reviews/fitnes-klub_fizkultura_russia_samara/',\n",
       " '/reviews/fitnes-klub_fitness_house_russia_sankt-peterburg/',\n",
       " '/reviews/fitnes-klub_bright_fit_russia_ekaterinburg/',\n",
       " '/reviews/fitnes-klub_slaviya_fitnes_russia_saratov/',\n",
       " '/reviews/fizkulturno-ozdorovitelniy_kompleks_neptun_russia_balashiha/',\n",
       " '/reviews/fitnes-klub_lifecity_london_russia_moscow/',\n",
       " '/reviews/fitnes-centr_sculptors/',\n",
       " '/reviews/fitnes-klub_smayl_ukraina_odessa/',\n",
       " '/reviews/fitnes-klub_sssr_russia_dzerzhinskiy/',\n",
       " '/reviews/fitnes-klub_millenium_russia_moscow/',\n",
       " '/reviews/fitnes-klub_fit_curves_ukraina_kiev/',\n",
       " '/reviews/set_fitnes-klubov_territoriya_fitnesa_russia/',\n",
       " '/reviews/set_fitness-klubov_world_class/',\n",
       " '/reviews/set_fitnes_klubov_pride_club_russia_moscow/']"
      ]
     },
     "execution_count": 191,
     "metadata": {},
     "output_type": "execute_result"
    }
   ],
   "source": [
    "user_agent = 'Mozilla/5.0 (Windows NT 6.1; Win64; x64)'\n",
    "url = f'https://otzovik.com/show_filter.php?cat_id=263&f[r]=20_'\n",
    "hrefs = get_hrefs(user_agent, url)\n",
    "hrefs"
   ]
  },
  {
   "cell_type": "markdown",
   "metadata": {},
   "source": [
    "Достаю циклом с каждого клуба страницы с отзывами, а потом все эти страницы сохраняю у себя. При этом смотрю на рейтинг и считаю, сколько достаю положительных и отрицательных отзывов"
   ]
  },
  {
   "cell_type": "code",
   "execution_count": 149,
   "metadata": {},
   "outputs": [],
   "source": [
    "def get_reviews(hrefs, list_neg_pages, list_pos_pages, count_n, count_p):\n",
    "    for href in hrefs:\n",
    "        if len(list_neg_pages) > 40 and len(list_pos_pages) > 40:\n",
    "            break\n",
    "        full_href = 'https://otzovik.com' + href\n",
    "        req = requests.get(full_href, headers={'User-Agent': user_agent})\n",
    "        page = req.text\n",
    "        time.sleep(20)\n",
    "        regex_review_hrefs = re.compile('(https:\\/\\/otzovik\\.com\\/review_\\d+\\.html)\">')\n",
    "        review_hrefs = regex_review_hrefs.findall (str(page))\n",
    "        for review_href in review_hrefs:\n",
    "            if count_n > 40 and count_p > 40:\n",
    "                break\n",
    "            print(review_href)\n",
    "            a_req = requests.get(review_href, headers={'User-Agent': user_agent})\n",
    "            a_page = a_req.text\n",
    "            time.sleep(20)\n",
    "            regex_rating = re.compile('<abbr class=\"rating\" title=\"(\\d)\"></abbr>')\n",
    "            rating = regex_rating.search (str(a_page))\n",
    "            if rating.group(1) == '4'or rating.group(1) == '5':\n",
    "                if len(list_pos_pages) < 40:\n",
    "                    list_pos_pages.append(a_page)\n",
    "                    count_p += 1\n",
    "            else:\n",
    "                if len(list_neg_pages) < 40:\n",
    "                    list_neg_pages.append(a_page)\n",
    "                    count_n += 1\n",
    "    return list_neg_pages, list_pos_pages, count_n, count_p"
   ]
  },
  {
   "cell_type": "markdown",
   "metadata": {},
   "source": [
    "Чтоб не заблочили по запросам, вставляла ссылки на клубы сама через определенное время, пока не подобрала оптимальный тайм слип\n"
   ]
  },
  {
   "cell_type": "code",
   "execution_count": 145,
   "metadata": {},
   "outputs": [
    {
     "data": {
      "text/plain": [
       "['/reviews/fitnes-klub_spiritfitness_russia_moscow/',\n",
       " '/reviews/fitnes-proekt_prime_time_russia/',\n",
       " '/reviews/fitnes-klub_ohana_fitness_russia_moskovskiy/',\n",
       " '/reviews/fitnes-klub_oblaka_russia_moscow/',\n",
       " '/reviews/fitnes-klub_amazoniya_russia_moscow/',\n",
       " '/reviews/fitnes-klub_loft_fitness_russia_yaroslavl/',\n",
       " '/reviews/fitnes_klub_zebra_russia_mitischi/',\n",
       " '/reviews/ediniy_sportivniy_abonement_onefit/',\n",
       " '/reviews/fitnes-klub_v7fitnes_russia_sankt-peterburg/',\n",
       " '/reviews/fitnes-klub_crocus_fitness_russia_moscow/',\n",
       " '/reviews/fitnes-klub_gym-gym_russia_moscow/',\n",
       " '/reviews/fitnes-klub_raketa_russia_moscow/',\n",
       " '/reviews/fitnes-park_vita-fit_russia_vidnoe/',\n",
       " '/reviews/fitnes-klub_gym_fitness_studio_russia_moscow/',\n",
       " '/reviews/ediniy_fitnes_abonement_fitmost/',\n",
       " '/reviews/fitnes-klub_enigma_sura_russia_penza/',\n",
       " '/reviews/fitnes-klub_fizkultura_russia_samara/',\n",
       " '/reviews/fitnes-klub_fitness_house_russia_sankt-peterburg/',\n",
       " '/reviews/fitnes-klub_bright_fit_russia_ekaterinburg/',\n",
       " '/reviews/fitnes-klub_slaviya_fitnes_russia_saratov/',\n",
       " '/reviews/fizkulturno-ozdorovitelniy_kompleks_neptun_russia_balashiha/',\n",
       " '/reviews/fitnes-klub_lifecity_london_russia_moscow/',\n",
       " '/reviews/fitnes-centr_sculptors/',\n",
       " '/reviews/fitnes-klub_smayl_ukraina_odessa/',\n",
       " '/reviews/fitnes-klub_sssr_russia_dzerzhinskiy/',\n",
       " '/reviews/fitnes-klub_millenium_russia_moscow/',\n",
       " '/reviews/fitnes-klub_fit_curves_ukraina_kiev/',\n",
       " '/reviews/set_fitnes-klubov_territoriya_fitnesa_russia/',\n",
       " '/reviews/set_fitness-klubov_world_class/',\n",
       " '/reviews/set_fitnes_klubov_pride_club_russia_moscow/']"
      ]
     },
     "execution_count": 145,
     "metadata": {},
     "output_type": "execute_result"
    }
   ],
   "source": [
    "list_neg_pages = [] \n",
    "list_pos_pages = [] \n",
    "count_n = 0 \n",
    "count_p = 0\n",
    "h"
   ]
  },
  {
   "cell_type": "code",
   "execution_count": 146,
   "metadata": {},
   "outputs": [
    {
     "name": "stdout",
     "output_type": "stream",
     "text": [
      "https://otzovik.com/review_9065088.html\n",
      "https://otzovik.com/review_10324783.html\n",
      "https://otzovik.com/review_8997668.html\n",
      "https://otzovik.com/review_10327560.html\n",
      "https://otzovik.com/review_9218807.html\n",
      "https://otzovik.com/review_10694281.html\n",
      "https://otzovik.com/review_10340826.html\n",
      "https://otzovik.com/review_10358193.html\n",
      "https://otzovik.com/review_10430172.html\n",
      "https://otzovik.com/review_10491606.html\n",
      "https://otzovik.com/review_8408162.html\n",
      "https://otzovik.com/review_9887810.html\n",
      "https://otzovik.com/review_9352921.html\n",
      "https://otzovik.com/review_9825922.html\n",
      "https://otzovik.com/review_9087919.html\n",
      "https://otzovik.com/review_10645971.html\n",
      "https://otzovik.com/review_10505582.html\n",
      "https://otzovik.com/review_9392908.html\n",
      "https://otzovik.com/review_9177562.html\n",
      "https://otzovik.com/review_9493682.html\n",
      "https://otzovik.com/review_4579804.html\n",
      "https://otzovik.com/review_7324053.html\n",
      "https://otzovik.com/review_8860207.html\n",
      "https://otzovik.com/review_7576710.html\n",
      "https://otzovik.com/review_9585935.html\n",
      "https://otzovik.com/review_10374300.html\n",
      "https://otzovik.com/review_8192917.html\n",
      "https://otzovik.com/review_10408211.html\n",
      "https://otzovik.com/review_10273625.html\n",
      "https://otzovik.com/review_10662955.html\n",
      "https://otzovik.com/review_9887865.html\n",
      "https://otzovik.com/review_7954372.html\n",
      "https://otzovik.com/review_7954646.html\n",
      "https://otzovik.com/review_5872065.html\n",
      "https://otzovik.com/review_7999479.html\n",
      "https://otzovik.com/review_7949611.html\n",
      "https://otzovik.com/review_6603966.html\n",
      "https://otzovik.com/review_7541356.html\n",
      "https://otzovik.com/review_7951225.html\n",
      "https://otzovik.com/review_7955859.html\n",
      "https://otzovik.com/review_8301925.html\n",
      "https://otzovik.com/review_10698063.html\n",
      "https://otzovik.com/review_10723889.html\n",
      "https://otzovik.com/review_10698096.html\n",
      "https://otzovik.com/review_10703989.html\n",
      "https://otzovik.com/review_7303484.html\n",
      "https://otzovik.com/review_7867417.html\n",
      "https://otzovik.com/review_8870392.html\n",
      "https://otzovik.com/review_9700601.html\n",
      "https://otzovik.com/review_8770130.html\n",
      "https://otzovik.com/review_7144108.html\n",
      "https://otzovik.com/review_8686933.html\n",
      "https://otzovik.com/review_7576232.html\n",
      "https://otzovik.com/review_7227424.html\n",
      "https://otzovik.com/review_7672415.html\n",
      "https://otzovik.com/review_8072460.html\n",
      "https://otzovik.com/review_7575496.html\n",
      "https://otzovik.com/review_7597971.html\n",
      "https://otzovik.com/review_7551489.html\n",
      "https://otzovik.com/review_7708688.html\n",
      "https://otzovik.com/review_6523773.html\n",
      "https://otzovik.com/review_8984197.html\n",
      "https://otzovik.com/review_9504953.html\n",
      "https://otzovik.com/review_10714702.html\n",
      "https://otzovik.com/review_10558326.html\n",
      "https://otzovik.com/review_9052508.html\n",
      "https://otzovik.com/review_10468333.html\n"
     ]
    },
    {
     "ename": "AttributeError",
     "evalue": "'NoneType' object has no attribute 'group'",
     "output_type": "error",
     "traceback": [
      "\u001b[0;31m---------------------------------------------------------------------------\u001b[0m",
      "\u001b[0;31mAttributeError\u001b[0m                            Traceback (most recent call last)",
      "\u001b[0;32m<ipython-input-146-ec6e0acc136d>\u001b[0m in \u001b[0;36m<module>\u001b[0;34m()\u001b[0m\n\u001b[1;32m      1\u001b[0m \u001b[0mhre\u001b[0m \u001b[0;34m=\u001b[0m \u001b[0mh\u001b[0m\u001b[0;34m\u001b[0m\u001b[0m\n\u001b[0;32m----> 2\u001b[0;31m \u001b[0mlist_neg_pages\u001b[0m\u001b[0;34m,\u001b[0m \u001b[0mlist_pos_pages\u001b[0m\u001b[0;34m,\u001b[0m \u001b[0mcount_n\u001b[0m\u001b[0;34m,\u001b[0m \u001b[0mcount_p\u001b[0m \u001b[0;34m=\u001b[0m \u001b[0mget_reviews\u001b[0m\u001b[0;34m(\u001b[0m\u001b[0mhre\u001b[0m\u001b[0;34m,\u001b[0m \u001b[0mlist_neg_pages\u001b[0m\u001b[0;34m,\u001b[0m \u001b[0mlist_pos_pages\u001b[0m\u001b[0;34m,\u001b[0m \u001b[0mcount_n\u001b[0m\u001b[0;34m,\u001b[0m \u001b[0mcount_p\u001b[0m\u001b[0;34m)\u001b[0m\u001b[0;34m\u001b[0m\u001b[0m\n\u001b[0m",
      "\u001b[0;32m<ipython-input-125-3805f24f3dc5>\u001b[0m in \u001b[0;36mget_reviews\u001b[0;34m(hrefs, list_neg_pages, list_pos_pages, count_n, count_p)\u001b[0m\n\u001b[1;32m     18\u001b[0m             \u001b[0mregex_rating\u001b[0m \u001b[0;34m=\u001b[0m \u001b[0mre\u001b[0m\u001b[0;34m.\u001b[0m\u001b[0mcompile\u001b[0m\u001b[0;34m(\u001b[0m\u001b[0;34m'<abbr class=\"rating\" title=\"(\\d)\"></abbr>'\u001b[0m\u001b[0;34m)\u001b[0m\u001b[0;34m\u001b[0m\u001b[0m\n\u001b[1;32m     19\u001b[0m             \u001b[0mrating\u001b[0m \u001b[0;34m=\u001b[0m \u001b[0mregex_rating\u001b[0m\u001b[0;34m.\u001b[0m\u001b[0msearch\u001b[0m \u001b[0;34m(\u001b[0m\u001b[0mstr\u001b[0m\u001b[0;34m(\u001b[0m\u001b[0ma_page\u001b[0m\u001b[0;34m)\u001b[0m\u001b[0;34m)\u001b[0m\u001b[0;34m\u001b[0m\u001b[0m\n\u001b[0;32m---> 20\u001b[0;31m             \u001b[0;32mif\u001b[0m \u001b[0mrating\u001b[0m\u001b[0;34m.\u001b[0m\u001b[0mgroup\u001b[0m\u001b[0;34m(\u001b[0m\u001b[0;36m1\u001b[0m\u001b[0;34m)\u001b[0m \u001b[0;34m==\u001b[0m \u001b[0;34m'4'\u001b[0m\u001b[0;32mor\u001b[0m \u001b[0mrating\u001b[0m\u001b[0;34m.\u001b[0m\u001b[0mgroup\u001b[0m\u001b[0;34m(\u001b[0m\u001b[0;36m1\u001b[0m\u001b[0;34m)\u001b[0m \u001b[0;34m==\u001b[0m \u001b[0;34m'5'\u001b[0m\u001b[0;34m:\u001b[0m\u001b[0;34m\u001b[0m\u001b[0m\n\u001b[0m\u001b[1;32m     21\u001b[0m                 \u001b[0;32mif\u001b[0m \u001b[0mlen\u001b[0m\u001b[0;34m(\u001b[0m\u001b[0mlist_pos_pages\u001b[0m\u001b[0;34m)\u001b[0m \u001b[0;34m<\u001b[0m \u001b[0;36m30\u001b[0m\u001b[0;34m:\u001b[0m\u001b[0;34m\u001b[0m\u001b[0m\n\u001b[1;32m     22\u001b[0m                     \u001b[0mlist_pos_pages\u001b[0m\u001b[0;34m.\u001b[0m\u001b[0mappend\u001b[0m\u001b[0;34m(\u001b[0m\u001b[0ma_page\u001b[0m\u001b[0;34m)\u001b[0m\u001b[0;34m\u001b[0m\u001b[0m\n",
      "\u001b[0;31mAttributeError\u001b[0m: 'NoneType' object has no attribute 'group'"
     ]
    }
   ],
   "source": [
    "hre = h\n",
    "list_neg_pages, list_pos_pages, count_n, count_p = get_reviews(hre, list_neg_pages, list_pos_pages, count_n, count_p)\n"
   ]
  },
  {
   "cell_type": "markdown",
   "metadata": {},
   "source": [
    "Достаем нужный нам кусок текста со страницы, удаляем теги из текста и остатки регулярных выражений, а также рекламу"
   ]
  },
  {
   "cell_type": "code",
   "execution_count": 28,
   "metadata": {},
   "outputs": [],
   "source": [
    "def remove_html_tags(text):\n",
    "    clean = re.compile('<.*?>')\n",
    "    return re.sub(clean, '', text)"
   ]
  },
  {
   "cell_type": "code",
   "execution_count": 31,
   "metadata": {},
   "outputs": [],
   "source": [
    "def remove_regex(text):\n",
    "    clean = re.compile('\\\\n')\n",
    "    return re.sub(clean, '', text)"
   ]
  },
  {
   "cell_type": "code",
   "execution_count": 77,
   "metadata": {},
   "outputs": [],
   "source": [
    "def get_text(page):\n",
    "    soup = BeautifulSoup(page, 'html.parser')\n",
    "    prepretext = soup.find ('div', {'class' : \"review-body description\"})\n",
    "    pretext = remove_html_tags(str(prepretext))\n",
    "    text = remove_regex(pretext)\n",
    "    text = re.sub('\\(adsbygoogle = window\\.adsbygoogle \\|\\| \\[]\\)\\.push\\({}\\)', '', text)\n",
    "    return text"
   ]
  },
  {
   "cell_type": "markdown",
   "metadata": {},
   "source": [
    "Это остатки от того, что я 2 раза собирала отзывы, потому что первый раз в конце меня заблочили"
   ]
  },
  {
   "cell_type": "code",
   "execution_count": 157,
   "metadata": {},
   "outputs": [],
   "source": [
    "neg_new = [get_text(page) for page in list_neg_pages]\n",
    "pos_new = [get_text(page) for page in list_pos_pages]"
   ]
  },
  {
   "cell_type": "code",
   "execution_count": 158,
   "metadata": {},
   "outputs": [],
   "source": [
    "negative = [get_text(page) for page in ln]\n",
    "positive = [get_text(page) for page in lp]"
   ]
  },
  {
   "cell_type": "markdown",
   "metadata": {},
   "source": [
    "Объединила тексты с 2 попыток из сбора, отделила тестовую выборку"
   ]
  },
  {
   "cell_type": "code",
   "execution_count": 159,
   "metadata": {},
   "outputs": [],
   "source": [
    "text_tests_pos = []\n",
    "text_tests_neg = []\n",
    "fl = 0\n",
    "fl1 = 0\n",
    "for text in positive:\n",
    "    if text not in pos_new:\n",
    "        if fl < 2:\n",
    "            pos_new.append(text)\n",
    "            fl = fl + 1\n",
    "        else: \n",
    "            text_tests_pos.append (text)\n",
    "            if len(text_tests_pos) > 4:\n",
    "                break\n",
    "for text in negative:\n",
    "    if text not in neg_new:\n",
    "        text_tests_neg.append(text)\n",
    "        if len(text_tests_neg) > 4:\n",
    "            break\n",
    "        \n",
    "            \n",
    "        \n",
    "    "
   ]
  },
  {
   "cell_type": "code",
   "execution_count": 134,
   "metadata": {},
   "outputs": [],
   "source": [
    "morph = MorphAnalyzer()"
   ]
  },
  {
   "cell_type": "markdown",
   "metadata": {},
   "source": [
    "Токенизирую, привожу к нижнему регистру и начальной форме, убираю лишние символы"
   ]
  },
  {
   "cell_type": "code",
   "execution_count": 135,
   "metadata": {},
   "outputs": [],
   "source": [
    "def an_text(text):\n",
    "    text_a = ''\n",
    "    words = [w.strip(',.!?').lower() for w in word_tokenize(text) if w.isalpha()]\n",
    "    for word in words:\n",
    "        ana = morph.parse(word)\n",
    "        text_a += \" \" + ana[0].normal_form\n",
    "    return text_a"
   ]
  },
  {
   "cell_type": "code",
   "execution_count": 162,
   "metadata": {},
   "outputs": [],
   "source": [
    "pos_new = [an_text(review) for review in pos_new]\n",
    "neg_new = [an_text(review) for review in neg_new]"
   ]
  },
  {
   "cell_type": "code",
   "execution_count": 163,
   "metadata": {},
   "outputs": [],
   "source": [
    "positive_words = ''\n",
    "for review in pos_new:\n",
    "    for word in review.split():\n",
    "        positive_words += ' ' + word\n",
    "        \n",
    "negative_words = ''\n",
    "for review in neg_new:\n",
    "    for word in review.split():\n",
    "        negative_words += ' ' + word"
   ]
  },
  {
   "cell_type": "markdown",
   "metadata": {},
   "source": [
    "создаю словари со словами, которые встречаются в положительных и отрицательных отзывах, а потом удаляю из них повторы и те слова, которые имеют частотность меньше 2"
   ]
  },
  {
   "cell_type": "code",
   "execution_count": 164,
   "metadata": {},
   "outputs": [],
   "source": [
    "p = {}\n",
    "n = {}\n",
    "for word in positive_words.split():\n",
    "    if word not in negative_words.split():\n",
    "        if word in p:\n",
    "            p[word] += 1\n",
    "        else:\n",
    "            p[word] = 1\n",
    "\n",
    "for word in negative_words.split():\n",
    "    if word not in positive_words.split():\n",
    "        if word in n:\n",
    "            n[word] += 1\n",
    "        else:\n",
    "            n[word] = 1"
   ]
  },
  {
   "cell_type": "code",
   "execution_count": 166,
   "metadata": {},
   "outputs": [],
   "source": [
    "delete = []\n",
    "for word in p:\n",
    "    if p[word] < 3:\n",
    "        delete.append(word)\n",
    "for word in delete:\n",
    "    del p[word]\n",
    "delete = []\n",
    "for word in n:\n",
    "    if n[word] < 3:\n",
    "        delete.append(word)\n",
    "for word in delete:\n",
    "    del n[word]"
   ]
  },
  {
   "cell_type": "markdown",
   "metadata": {},
   "source": [
    "Функция, которая определяет, положительный или отрицательный отзыв, в зависимости от того, слов из какого словаря в нем больше"
   ]
  },
  {
   "cell_type": "code",
   "execution_count": 189,
   "metadata": {},
   "outputs": [],
   "source": [
    "def define(review, n, p):\n",
    "    n_count = 0\n",
    "    p_count = 0\n",
    "    review_an = an_text(review)\n",
    "    for word in review_an.split():\n",
    "        if word in n:\n",
    "            n_count += 1\n",
    "        if word in p:\n",
    "            p_count += 1\n",
    "    if n_count > p_count:\n",
    "        pred = 'отзыв отрицательный'\n",
    "    if p_count > n_count:\n",
    "        pred = 'отзыв положительный'\n",
    "    if n_count == p_count:\n",
    "        pred = 'отзыв отрицательный'\n",
    "        \n",
    "    return pred"
   ]
  },
  {
   "cell_type": "markdown",
   "metadata": {},
   "source": [
    "Считаем точность"
   ]
  },
  {
   "cell_type": "code",
   "execution_count": 190,
   "metadata": {},
   "outputs": [
    {
     "name": "stdout",
     "output_type": "stream",
     "text": [
      "0.8\n"
     ]
    }
   ],
   "source": [
    "tp = 0\n",
    "tn = 0\n",
    "for test in text_tests_pos:\n",
    "    if define(test, n, p) == 'отзыв положительный':\n",
    "        tp = tp + 1\n",
    "for test in text_tests_neg:\n",
    "    if define(test, n, p) == 'отзыв отрицательный':\n",
    "        tn = tn + 1\n",
    "accuracy = (tp + tn)/10\n",
    "print(accuracy)"
   ]
  },
  {
   "cell_type": "markdown",
   "metadata": {},
   "source": [
    "Улучшить можно, удалив стоп-слова, вероятно. Также можно удалить слова, которые попали в словарь, но частотны в отзыве только одного человека, так, например, попадают в словарь имена тренеров, что нерелевантно в таком задании."
   ]
  },
  {
   "cell_type": "code",
   "execution_count": 192,
   "metadata": {},
   "outputs": [
    {
     "data": {
      "text/plain": [
       "({'пробный': 3,\n",
       "  'отличный': 9,\n",
       "  'браслет': 5,\n",
       "  'личный': 4,\n",
       "  'абонимент': 3,\n",
       "  'просторный': 4,\n",
       "  'чистый': 4,\n",
       "  'ряд': 4,\n",
       "  'лишний': 6,\n",
       "  'масса': 4,\n",
       "  'провести': 3,\n",
       "  'дополнительный': 4,\n",
       "  'питьевой': 4,\n",
       "  'правильно': 5,\n",
       "  'средний': 3,\n",
       "  'выше': 3,\n",
       "  'здорово': 3,\n",
       "  'люба': 3,\n",
       "  'всегда': 14,\n",
       "  'уровень': 3,\n",
       "  'открыться': 3,\n",
       "  'килограмм': 8,\n",
       "  'довольный': 8,\n",
       "  'спасибо': 10,\n",
       "  'отзыв': 4,\n",
       "  'прекрасный': 4,\n",
       "  'удобно': 3,\n",
       "  'тренерский': 3,\n",
       "  'любой': 3,\n",
       "  'разный': 7,\n",
       "  'видеть': 3,\n",
       "  'посмотреть': 3,\n",
       "  'приятный': 4,\n",
       "  'мелочь': 3,\n",
       "  'первое': 6,\n",
       "  'качество': 4,\n",
       "  'помогать': 4,\n",
       "  'участвовать': 3,\n",
       "  'кожа': 6,\n",
       "  'растяжка': 3,\n",
       "  'замечательный': 4,\n",
       "  'шикарный': 3,\n",
       "  'положительный': 3,\n",
       "  'позитив': 3,\n",
       "  'московский': 3,\n",
       "  'белгород': 3,\n",
       "  'сомнение': 4,\n",
       "  'приятно': 3,\n",
       "  'разнообразие': 4,\n",
       "  'комплекс': 3,\n",
       "  'летом': 3,\n",
       "  'ohana': 4},\n",
       " {'вячеслав': 3,\n",
       "  'полный': 3,\n",
       "  'услуга': 6,\n",
       "  'согласиться': 4,\n",
       "  'возвращать': 3,\n",
       "  'сергей': 3,\n",
       "  'часть': 3,\n",
       "  'посоветовать': 3,\n",
       "  'организация': 5,\n",
       "  'поставить': 4,\n",
       "  'подумать': 3,\n",
       "  'снимать': 5,\n",
       "  'бизнес': 3,\n",
       "  'затем': 4,\n",
       "  'заявление': 4,\n",
       "  'возврат': 5,\n",
       "  'нужный': 3,\n",
       "  'карантин': 4,\n",
       "  'списать': 7,\n",
       "  'ситуация': 4,\n",
       "  'письмо': 3,\n",
       "  'через': 12,\n",
       "  'расторжение': 4,\n",
       "  'отсутствовать': 3,\n",
       "  'ограничение': 3,\n",
       "  'средство': 5,\n",
       "  'право': 4,\n",
       "  'расторгнуть': 4,\n",
       "  'пункт': 4,\n",
       "  'приостановка': 3,\n",
       "  'причина': 4,\n",
       "  'отправить': 3,\n",
       "  'звонить': 3,\n",
       "  'заморозить': 3,\n",
       "  'равно': 3,\n",
       "  'хамить': 3,\n",
       "  'предоставить': 3,\n",
       "  'худой': 3,\n",
       "  'руководство': 3,\n",
       "  'понятный': 3,\n",
       "  'заморозка': 7,\n",
       "  'эпидемия': 3,\n",
       "  'обращаться': 3,\n",
       "  'сентябрь': 4,\n",
       "  'р': 4,\n",
       "  'днём': 3,\n",
       "  'произойти': 3,\n",
       "  'чек': 3,\n",
       "  'отказываться': 3,\n",
       "  'минута': 3,\n",
       "  'тупо': 3,\n",
       "  'предоплата': 4,\n",
       "  'вечером': 6,\n",
       "  'нина': 3,\n",
       "  'тема': 3,\n",
       "  'начинать': 3,\n",
       "  'коктейль': 3,\n",
       "  'ежедневно': 6,\n",
       "  'срок': 3,\n",
       "  'опять': 3,\n",
       "  'быстро': 3,\n",
       "  'вывод': 3,\n",
       "  'организм': 3,\n",
       "  'основное': 4,\n",
       "  'похудение': 5,\n",
       "  'готовый': 4,\n",
       "  'дз': 3,\n",
       "  'подход': 5,\n",
       "  'болтушка': 3,\n",
       "  'причём': 3,\n",
       "  'видео': 4,\n",
       "  'рацион': 4,\n",
       "  'сдать': 3,\n",
       "  'составление': 3,\n",
       "  'дождаться': 3,\n",
       "  'факт': 3,\n",
       "  'красота': 5,\n",
       "  'врач': 3,\n",
       "  'отдел': 3,\n",
       "  'жена': 3,\n",
       "  'взрослый': 6,\n",
       "  'начинаться': 3})"
      ]
     },
     "execution_count": 192,
     "metadata": {},
     "output_type": "execute_result"
    }
   ],
   "source": [
    "p, n"
   ]
  },
  {
   "cell_type": "code",
   "execution_count": null,
   "metadata": {},
   "outputs": [],
   "source": []
  }
 ],
 "metadata": {
  "kernelspec": {
   "display_name": "Python 3",
   "language": "python",
   "name": "python3"
  },
  "language_info": {
   "codemirror_mode": {
    "name": "ipython",
    "version": 3
   },
   "file_extension": ".py",
   "mimetype": "text/x-python",
   "name": "python",
   "nbconvert_exporter": "python",
   "pygments_lexer": "ipython3",
   "version": "3.7.0"
  }
 },
 "nbformat": 4,
 "nbformat_minor": 2
}
